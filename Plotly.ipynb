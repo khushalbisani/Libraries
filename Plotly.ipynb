{
 "cells": [
  {
   "cell_type": "code",
   "execution_count": 1,
   "metadata": {},
   "outputs": [],
   "source": [
    "# pip install plotly\n",
    "import plotly\n",
    "#import plotly.plotly as py\n",
    "import plotly.graph_objs as go"
   ]
  },
  {
   "cell_type": "code",
   "execution_count": 2,
   "metadata": {},
   "outputs": [
    {
     "data": {
      "application/vnd.plotly.v1+json": {
       "config": {
        "linkText": "Export to plot.ly",
        "plotlyServerURL": "https://plot.ly",
        "showLink": false
       },
       "data": [
        {
         "type": "scatter",
         "uid": "8e5717dc-a444-4f80-8c4c-eb716ad2f7d8",
         "x": [
          1,
          2
         ],
         "y": [
          1,
          2
         ]
        }
       ],
       "layout": {}
      }
     },
     "metadata": {},
     "output_type": "display_data"
    }
   ],
   "source": [
    "trace = { 'x' : [1,2] , 'y' : [1,2] }\n",
    "data = [trace]\n",
    "layout = {}\n",
    "fig = go.Figure(data = data , layout = layout)\n",
    "plotly.offline.iplot(fig)\n",
    "#x=plotly.offline.plot(fig)\n",
    "#x"
   ]
  },
  {
   "cell_type": "code",
   "execution_count": 3,
   "metadata": {},
   "outputs": [
    {
     "data": {
      "application/vnd.plotly.v1+json": {
       "config": {
        "linkText": "Export to plot.ly",
        "plotlyServerURL": "https://plot.ly",
        "showLink": false
       },
       "data": [
        {
         "type": "scatter",
         "uid": "6f899cc5-67bb-43ea-89c5-6c8eea71ee4a",
         "x": [
          1,
          2,
          3
         ],
         "y": [
          3,
          4.5,
          1
         ]
        }
       ],
       "layout": {}
      }
     },
     "metadata": {},
     "output_type": "display_data"
    }
   ],
   "source": [
    "trace = go.Scatter( x = [1,2,3] , y = [3,4.5,1])\n",
    "plotly.offline.iplot([trace])"
   ]
  },
  {
   "cell_type": "markdown",
   "metadata": {},
   "source": [
    "# Basic Charts"
   ]
  },
  {
   "cell_type": "markdown",
   "metadata": {},
   "source": [
    "### Line plot"
   ]
  },
  {
   "cell_type": "code",
   "execution_count": 4,
   "metadata": {},
   "outputs": [
    {
     "data": {
      "application/vnd.plotly.v1+json": {
       "config": {
        "linkText": "Export to plot.ly",
        "plotlyServerURL": "https://plot.ly",
        "showLink": false
       },
       "data": [
        {
         "type": "scatter",
         "uid": "9f9bd5c3-7a8f-4957-afc7-018b212addd3",
         "x": [
          1,
          2
         ],
         "y": [
          1,
          2
         ]
        },
        {
         "type": "scatter",
         "uid": "0da58ca8-aeda-4aed-b8b6-03f49d0e92f4",
         "x": [
          1,
          2
         ],
         "y": [
          2,
          1
         ]
        }
       ],
       "layout": {}
      }
     },
     "metadata": {},
     "output_type": "display_data"
    }
   ],
   "source": [
    "trace1 = go.Scatter( x = [1,2] , y = [1,2])\n",
    "trace2 = go.Scatter( x = [1,2] , y = [2,1])\n",
    "plotly.offline.iplot([trace1 , trace2])"
   ]
  },
  {
   "cell_type": "markdown",
   "metadata": {},
   "source": [
    "### Bubble chart"
   ]
  },
  {
   "cell_type": "code",
   "execution_count": 5,
   "metadata": {},
   "outputs": [
    {
     "data": {
      "application/vnd.plotly.v1+json": {
       "config": {
        "linkText": "Export to plot.ly",
        "plotlyServerURL": "https://plot.ly",
        "showLink": false
       },
       "data": [
        {
         "marker": {
          "color": [
           "red",
           "yellow",
           "blue"
          ],
          "size": [
           40,
           100,
           200
          ]
         },
         "mode": "markers",
         "type": "scatter",
         "uid": "1628fa17-c3b4-4955-b9d9-72752aee8d87",
         "x": [
          1,
          2,
          3
         ],
         "y": [
          1,
          2,
          3
         ]
        }
       ],
       "layout": {}
      }
     },
     "metadata": {},
     "output_type": "display_data"
    }
   ],
   "source": [
    "trace = go.Scatter(\n",
    "    x = [1,2,3] , y = [1,2,3] ,\n",
    "    marker = dict(\n",
    "    color = ['red' , 'yellow' ,'blue'],\n",
    "    size = [40,100 ,200]),\n",
    "    mode = 'markers'\n",
    ")\n",
    "\n",
    "plotly.offline.iplot([trace])"
   ]
  },
  {
   "cell_type": "markdown",
   "metadata": {},
   "source": [
    "### Scatter plot"
   ]
  },
  {
   "cell_type": "code",
   "execution_count": 6,
   "metadata": {},
   "outputs": [
    {
     "data": {
      "application/vnd.plotly.v1+json": {
       "config": {
        "linkText": "Export to plot.ly",
        "plotlyServerURL": "https://plot.ly",
        "showLink": false
       },
       "data": [
        {
         "mode": "markers+text",
         "text": [
          "10",
          "20",
          "30",
          "40",
          "50",
          "60",
          "70",
          "80",
          "90",
          "100",
          "110",
          "120",
          "130"
         ],
         "textposition": "top center",
         "type": "scatter",
         "uid": "68be9daf-bf34-442e-97c9-963c55ff3d7d",
         "x": [
          1,
          2,
          3,
          3,
          5,
          15,
          3,
          12,
          9,
          13,
          7,
          5,
          4
         ],
         "y": [
          1,
          2,
          3,
          8,
          1,
          7,
          2,
          9,
          3,
          7,
          8,
          8,
          17
         ]
        }
       ],
       "layout": {}
      }
     },
     "metadata": {},
     "output_type": "display_data"
    }
   ],
   "source": [
    "trace = go.Scatter(\n",
    "    x = [1,2,3,3,5,15,3,12,9,13,7,5,4] , y = [1,2,3,8,1,7,2,9,3,7,8,8,17],\n",
    "    text = list(map(lambda x : x*10 , range(1,14))) , \n",
    "    textposition = 'top center',\n",
    "    mode = 'markers+text',\n",
    ")\n",
    "data = [trace]\n",
    "plotly.offline.iplot(data)"
   ]
  },
  {
   "cell_type": "markdown",
   "metadata": {},
   "source": [
    "### Heatmap"
   ]
  },
  {
   "cell_type": "code",
   "execution_count": 7,
   "metadata": {},
   "outputs": [
    {
     "data": {
      "application/vnd.plotly.v1+json": {
       "config": {
        "linkText": "Export to plot.ly",
        "plotlyServerURL": "https://plot.ly",
        "showLink": false
       },
       "data": [
        {
         "type": "heatmap",
         "uid": "54bf0aa0-0467-4292-ae67-5c49eb1093ce",
         "z": [
          [
           1,
           2,
           3,
           4
          ],
          [
           5,
           6,
           7,
           8
          ]
         ]
        }
       ],
       "layout": {}
      }
     },
     "metadata": {},
     "output_type": "display_data"
    }
   ],
   "source": [
    "trace = go.Heatmap(\n",
    "    z = [[1,2,3,4],[5,6,7,8]]\n",
    ")\n",
    "data = [trace]\n",
    "plotly.offline.iplot(data)"
   ]
  },
  {
   "cell_type": "markdown",
   "metadata": {},
   "source": [
    "### Bar plot"
   ]
  },
  {
   "cell_type": "code",
   "execution_count": 8,
   "metadata": {},
   "outputs": [
    {
     "data": {
      "application/vnd.plotly.v1+json": {
       "config": {
        "linkText": "Export to plot.ly",
        "plotlyServerURL": "https://plot.ly",
        "showLink": false
       },
       "data": [
        {
         "type": "bar",
         "uid": "35356049-dc1e-4854-84c9-7a9574402ef1",
         "x": [
          1,
          2,
          3
         ],
         "y": [
          4,
          5,
          6
         ]
        }
       ],
       "layout": {}
      }
     },
     "metadata": {},
     "output_type": "display_data"
    }
   ],
   "source": [
    "trace = go.Bar(x=[1,2,3],y=[4,5,6])\n",
    "data = [trace]\n",
    "plotly.offline.iplot(data)"
   ]
  },
  {
   "cell_type": "markdown",
   "metadata": {},
   "source": [
    "### Area plot"
   ]
  },
  {
   "cell_type": "code",
   "execution_count": 9,
   "metadata": {},
   "outputs": [
    {
     "data": {
      "application/vnd.plotly.v1+json": {
       "config": {
        "linkText": "Export to plot.ly",
        "plotlyServerURL": "https://plot.ly",
        "showLink": false
       },
       "data": [
        {
         "fill": "tonexty",
         "type": "scatter",
         "uid": "874d6a7f-6e10-4975-a14b-7deda58f6ed3",
         "x": [
          1,
          2
         ],
         "y": [
          1,
          2
         ]
        }
       ],
       "layout": {}
      }
     },
     "metadata": {},
     "output_type": "display_data"
    }
   ],
   "source": [
    "trace  = go.Scatter(x = [1,2] , y = [1,2] , fill='tonexty')\n",
    "data = [trace]\n",
    "plotly.offline.iplot(data)"
   ]
  },
  {
   "cell_type": "markdown",
   "metadata": {},
   "source": [
    "### 2 Area plot"
   ]
  },
  {
   "cell_type": "code",
   "execution_count": 10,
   "metadata": {},
   "outputs": [
    {
     "data": {
      "application/vnd.plotly.v1+json": {
       "config": {
        "linkText": "Export to plot.ly",
        "plotlyServerURL": "https://plot.ly",
        "showLink": false
       },
       "data": [
        {
         "fill": "tonexty",
         "type": "scatter",
         "uid": "9059cd29-e65f-479b-8785-36ebb131d54a",
         "x": [
          1,
          2
         ],
         "y": [
          1,
          2
         ]
        },
        {
         "fill": "tonexty",
         "type": "scatter",
         "uid": "9d6eff85-08b9-4f55-9b1b-cefbb2fb4cd0",
         "x": [
          1,
          2
         ],
         "y": [
          2,
          1
         ]
        }
       ],
       "layout": {}
      }
     },
     "metadata": {},
     "output_type": "display_data"
    }
   ],
   "source": [
    "trace1 = go.Scatter( x = [1,2] , y = [1,2] , fill = 'tonexty')\n",
    "trace2 = go.Scatter( x = [1,2] , y = [2,1] , fill = 'tonexty')\n",
    "plotly.offline.iplot([trace1 , trace2])"
   ]
  },
  {
   "cell_type": "markdown",
   "metadata": {},
   "source": [
    "# Layout"
   ]
  },
  {
   "cell_type": "markdown",
   "metadata": {},
   "source": [
    "### Legends"
   ]
  },
  {
   "cell_type": "code",
   "execution_count": 11,
   "metadata": {},
   "outputs": [
    {
     "data": {
      "application/vnd.plotly.v1+json": {
       "config": {
        "linkText": "Export to plot.ly",
        "plotlyServerURL": "https://plot.ly",
        "showLink": false
       },
       "data": [
        {
         "name": "Khushal",
         "type": "scatter",
         "uid": "9db496b1-2782-4d54-a911-46f7d560d611",
         "x": [
          1,
          2
         ],
         "y": [
          1,
          2
         ]
        },
        {
         "name": "Nikita",
         "type": "scatter",
         "uid": "803d8e1b-9e1c-4b60-b06c-88ebe9ddf4a2",
         "x": [
          1,
          2
         ],
         "y": [
          2,
          1
         ]
        }
       ],
       "layout": {
        "legend": {
         "x": 0.2,
         "y": 0.5
        },
        "showlegend": true
       }
      }
     },
     "metadata": {},
     "output_type": "display_data"
    }
   ],
   "source": [
    "trace1 = go.Scatter(name = 'Khushal', x = [1,2] , y = [1,2])\n",
    "trace2 = go.Scatter(name = 'Nikita' , x = [1,2] , y = [2,1])\n",
    "layout = go.Layout(showlegend = True , legend = dict( x = 0.2 , y = 0.5))\n",
    "data = [trace1,trace2]\n",
    "fig = go.Figure(data = data , layout = layout)\n",
    "plotly.offline.iplot(fig)\n",
    "#p = plotly.offline.plot(fig)\n",
    "#p"
   ]
  },
  {
   "cell_type": "markdown",
   "metadata": {},
   "source": [
    "### Axes"
   ]
  },
  {
   "cell_type": "code",
   "execution_count": 12,
   "metadata": {},
   "outputs": [
    {
     "ename": "NameError",
     "evalue": "name 'axis_template' is not defined",
     "output_type": "error",
     "traceback": [
      "\u001b[1;31m---------------------------------------------------------------------------\u001b[0m",
      "\u001b[1;31mNameError\u001b[0m                                 Traceback (most recent call last)",
      "\u001b[1;32m<ipython-input-12-e2d6d146effe>\u001b[0m in \u001b[0;36m<module>\u001b[1;34m()\u001b[0m\n\u001b[0;32m      2\u001b[0m \u001b[1;33m\u001b[0m\u001b[0m\n\u001b[0;32m      3\u001b[0m layout = go.Layout(\n\u001b[1;32m----> 4\u001b[1;33m     \u001b[0mxaxis\u001b[0m \u001b[1;33m=\u001b[0m \u001b[0maxis_template\u001b[0m\u001b[1;33m,\u001b[0m\u001b[1;33m\u001b[0m\u001b[0m\n\u001b[0m\u001b[0;32m      5\u001b[0m     \u001b[0myaxis\u001b[0m \u001b[1;33m=\u001b[0m \u001b[0maxis_template\u001b[0m\u001b[1;33m\u001b[0m\u001b[0m\n\u001b[0;32m      6\u001b[0m )\n",
      "\u001b[1;31mNameError\u001b[0m: name 'axis_template' is not defined"
     ]
    }
   ],
   "source": [
    "trace = go.Scatter(x = [1,2,3,4],y = [1,2,3,6])\n",
    "\n",
    "layout = go.Layout(\n",
    "    xaxis = axis_template,\n",
    "    yaxis = axis_template\n",
    ")\n",
    "\n",
    "axis_template = dict(\n",
    "    showgrid = False,\n",
    "    zeroline = False,\n",
    "    nticks=20,\n",
    "    showline=True,\n",
    "    title=\"X axis\",\n",
    "    mirror=\"all\",\n",
    ")\n",
    "\n",
    "data = [trace]\n",
    "\n",
    "fig = go.Figure(data = data , layout = layout)\n",
    "\n",
    "#p = plotly.offline.plot(fig)"
   ]
  },
  {
   "cell_type": "markdown",
   "metadata": {},
   "source": [
    "# Statistical Charts"
   ]
  },
  {
   "cell_type": "markdown",
   "metadata": {},
   "source": [
    "### Histograms"
   ]
  },
  {
   "cell_type": "code",
   "execution_count": null,
   "metadata": {},
   "outputs": [],
   "source": [
    "trace = go.Histogram(x=[1,2,3,3,3,4,5,5])\n",
    "data = [trace]\n",
    "#p = plotly.offline.plot(data)"
   ]
  },
  {
   "cell_type": "markdown",
   "metadata": {},
   "source": [
    "### Box Plots"
   ]
  },
  {
   "cell_type": "code",
   "execution_count": null,
   "metadata": {},
   "outputs": [],
   "source": [
    "trace = go.Box(x=[1,2,3,3,3,4,5,5,5,5,6])\n",
    "data = [trace]\n",
    "p = plotly.offline.plot(data)"
   ]
  },
  {
   "cell_type": "markdown",
   "metadata": {},
   "source": [
    "### Histogram2D"
   ]
  },
  {
   "cell_type": "code",
   "execution_count": null,
   "metadata": {},
   "outputs": [],
   "source": [
    "trace = go.Histogram2d(x = [1,2,3,3,3,4,5] , y = [1,2,3,3,3,4,5])\n",
    "data = [trace]\n",
    "p = plotly.offline.plot(data)"
   ]
  },
  {
   "cell_type": "markdown",
   "metadata": {},
   "source": [
    "# Maps"
   ]
  },
  {
   "cell_type": "markdown",
   "metadata": {},
   "source": [
    "### Bubble Map"
   ]
  },
  {
   "cell_type": "code",
   "execution_count": null,
   "metadata": {},
   "outputs": [],
   "source": [
    "trace = dict(\n",
    "    type = 'scattergeo',\n",
    "    lon = [77.13,77.01,00.05],\n",
    "    lat = [28.37,39.91,51.36],\n",
    "    marker = dict(\n",
    "        color = ['red','yellow','green'],\n",
    "        size = [10,10,10]\n",
    "    ),\n",
    "    mode = 'markers'\n",
    ")\n",
    "\n",
    "p = plotly.offline.plot([trace])"
   ]
  },
  {
   "cell_type": "markdown",
   "metadata": {},
   "source": [
    "### Choropleth Map"
   ]
  },
  {
   "cell_type": "code",
   "execution_count": null,
   "metadata": {},
   "outputs": [],
   "source": [
    "trace = dict(\n",
    "    type = 'choropleth',\n",
    "    locations = ['AZ','CA','VT'],\n",
    "    locationmode = 'USA-states',\n",
    "    colorscale = [[0, 'green'], [0.5, 'red'], [1.0, 'rgb(0, 0, 255)']],\n",
    "    z=[10,20,40]\n",
    ")\n",
    "\n",
    "layout = dict(geo = dict(scope = 'usa'))\n",
    "\n",
    "map = go.Figure(data = [trace] , layout = layout)\n",
    "\n",
    "#p = plotly.offline.plot(map)"
   ]
  },
  {
   "cell_type": "code",
   "execution_count": null,
   "metadata": {},
   "outputs": [],
   "source": [
    "trace = dict(\n",
    "    type = 'scattergeo',\n",
    "    lon = [42,39] , lat = [12,22] ,\n",
    "    mode = 'markers'\n",
    ")\n",
    "\n",
    "#p = plotly.offline.plot([trace])"
   ]
  },
  {
   "cell_type": "markdown",
   "metadata": {},
   "source": [
    "# 3D Charts"
   ]
  },
  {
   "cell_type": "markdown",
   "metadata": {},
   "source": [
    "### 3D Surface Plots"
   ]
  },
  {
   "cell_type": "code",
   "execution_count": null,
   "metadata": {},
   "outputs": [],
   "source": [
    "trace = go.Surface(\n",
    "    #colorscale = [],\n",
    "    z = [[3,5,8,13],[21,13,8,5]],\n",
    ")\n",
    "\n",
    "data = [trace]\n",
    "\n",
    "p = plotly.offline.plot(data)"
   ]
  },
  {
   "cell_type": "markdown",
   "metadata": {},
   "source": [
    "### 3D Line Plots"
   ]
  },
  {
   "cell_type": "code",
   "execution_count": null,
   "metadata": {},
   "outputs": [],
   "source": [
    "trace = go.Scatter3d(\n",
    "    x=[9,8,5,1,5,6,12],\n",
    "    y=[1,2,4,8,2,7,9],\n",
    "    z=[11,8,15,3,5,9,7],\n",
    "    mode = 'lines'\n",
    ")\n",
    "\n",
    "data = [trace]\n",
    "\n",
    "#p = plotly.offline.plot(data)"
   ]
  },
  {
   "cell_type": "markdown",
   "metadata": {},
   "source": [
    "### 3D Scatter Plots"
   ]
  },
  {
   "cell_type": "code",
   "execution_count": 13,
   "metadata": {},
   "outputs": [],
   "source": [
    "trace = go.Scatter3d(\n",
    "    x=[9,8,5,1,5,6,12],\n",
    "    y=[1,2,4,8,2,7,9],\n",
    "    z=[11,8,15,3,5,9,7],\n",
    "    mode = 'markers'\n",
    ")\n",
    "\n",
    "data = [trace]\n",
    "\n",
    "p = plotly.offline.plot(data)"
   ]
  }
 ],
 "metadata": {
  "kernelspec": {
   "display_name": "Python 3",
   "language": "python",
   "name": "python3"
  },
  "language_info": {
   "codemirror_mode": {
    "name": "ipython",
    "version": 3
   },
   "file_extension": ".py",
   "mimetype": "text/x-python",
   "name": "python",
   "nbconvert_exporter": "python",
   "pygments_lexer": "ipython3",
   "version": "3.6.5"
  }
 },
 "nbformat": 4,
 "nbformat_minor": 2
}
