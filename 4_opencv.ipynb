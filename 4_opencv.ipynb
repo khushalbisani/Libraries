{
 "cells": [
  {
   "cell_type": "code",
   "execution_count": 1,
   "metadata": {},
   "outputs": [],
   "source": [
    "import cv2\n",
    "import matplotlib.pyplot as plt\n",
    "import numpy as np\n",
    "%matplotlib inline"
   ]
  },
  {
   "cell_type": "markdown",
   "metadata": {},
   "source": [
    "# Object tracking By Colorm"
   ]
  },
  {
   "cell_type": "code",
   "execution_count": 4,
   "metadata": {},
   "outputs": [],
   "source": [
    "def main():\n",
    "    cap = cv2.VideoCapture(0)\n",
    "    \n",
    "    if cap.isOpened():\n",
    "        ret , frame = cap.read()\n",
    "        \n",
    "    else:\n",
    "        ret = False\n",
    "        \n",
    "    while True:\n",
    "        ret , frame = cap.read()\n",
    "        hsv = cv2.cvtColor(frame , cv2.COLOR_BGR2HSV) ####\n",
    "        \n",
    "        # Blue Color\n",
    "        low = np.array([100, 50, 50])\n",
    "        high = np.array([140, 255, 255])\n",
    "        \n",
    "        # Green Color\n",
    "#        low = np.array([40, 50, 50])\n",
    "#        high = np.array([80, 255, 255])\n",
    "\n",
    "        # Red Color\n",
    "        low = np.array([0, 100, 100])\n",
    "        high = np.array([10, 255, 255])\n",
    "        \n",
    "\n",
    "        image_mask = cv2.inRange(hsv , low , high)  ####\n",
    "        output = cv2.bitwise_and(frame , frame , mask = image_mask)  ###\n",
    "        \n",
    "        #cv2.imshow(\"Image_mask\" , image_mask)\n",
    "        #cv2.imshow(\"Original Web Cam\" , frame)\n",
    "        cv2.imshow(\"Colored img\" , output)\n",
    "        \n",
    "        if cv2.waitKey(33) == 27:\n",
    "            break\n",
    "            \n",
    "    cv2.destroyAllWindows()\n",
    "    cap.release()"
   ]
  },
  {
   "cell_type": "code",
   "execution_count": 5,
   "metadata": {},
   "outputs": [],
   "source": [
    "if __name__ == \"__main__\":\n",
    "    main()"
   ]
  }
 ],
 "metadata": {
  "kernelspec": {
   "display_name": "Python 3",
   "language": "python",
   "name": "python3"
  },
  "language_info": {
   "codemirror_mode": {
    "name": "ipython",
    "version": 3
   },
   "file_extension": ".py",
   "mimetype": "text/x-python",
   "name": "python",
   "nbconvert_exporter": "python",
   "pygments_lexer": "ipython3",
   "version": "3.6.5"
  }
 },
 "nbformat": 4,
 "nbformat_minor": 2
}
