{
 "cells": [
  {
   "cell_type": "markdown",
   "metadata": {},
   "source": [
    "# Mini-project Mouse Event and Interactive drawing"
   ]
  },
  {
   "cell_type": "code",
   "execution_count": 1,
   "metadata": {},
   "outputs": [],
   "source": [
    "import cv2\n",
    "import numpy as np"
   ]
  },
  {
   "cell_type": "code",
   "execution_count": 2,
   "metadata": {},
   "outputs": [
    {
     "name": "stdout",
     "output_type": "stream",
     "text": [
      "['EVENT_FLAG_ALTKEY', 'EVENT_FLAG_CTRLKEY', 'EVENT_FLAG_LBUTTON', 'EVENT_FLAG_MBUTTON', 'EVENT_FLAG_RBUTTON', 'EVENT_FLAG_SHIFTKEY', 'EVENT_LBUTTONDBLCLK', 'EVENT_LBUTTONDOWN', 'EVENT_LBUTTONUP', 'EVENT_MBUTTONDBLCLK', 'EVENT_MBUTTONDOWN', 'EVENT_MBUTTONUP', 'EVENT_MOUSEHWHEEL', 'EVENT_MOUSEMOVE', 'EVENT_MOUSEWHEEL', 'EVENT_RBUTTONDBLCLK', 'EVENT_RBUTTONDOWN', 'EVENT_RBUTTONUP']\n"
     ]
    }
   ],
   "source": [
    "events = [i for i in dir(cv2) if 'EVENT' in i]\n",
    "print(events)"
   ]
  },
  {
   "cell_type": "code",
   "execution_count": 3,
   "metadata": {},
   "outputs": [],
   "source": [
    "windowname = 'Khushal'\n",
    "img = np.zeros((512,512,3), np.uint8)\n",
    "cv2.namedWindow(windowname)\n",
    "\n",
    "def des_circle(event, x, y,l,m):\n",
    "    if event == cv2.EVENT_LBUTTONDBLCLK:\n",
    "        cv2.circle(img , (x,y) , 50 ,(0,0,255),-1)\n",
    "        \n",
    "cv2.setMouseCallback(windowname , des_circle)\n",
    "\n",
    "def main():\n",
    "    while True:\n",
    "        cv2.imshow(windowname,img)\n",
    "        if cv2.waitKey(10) == 27:\n",
    "            break\n",
    "            \n",
    "    cv2.destroyAllWindows()\n",
    "        \n",
    "if __name__ == \"__main__\":\n",
    "    main()"
   ]
  },
  {
   "cell_type": "code",
   "execution_count": 4,
   "metadata": {},
   "outputs": [],
   "source": [
    "windowname = 'Drawing Demo'\n",
    "img = np.zeros((512,512,3) , np.uint8)\n",
    "cv2.namedWindow(windowname)\n",
    "\n",
    "# true if mouse is pressed\n",
    "drawing = False\n",
    "\n",
    "# if True , draw rectangle . Press 'm' to toggle to curve\n",
    "mode = True\n",
    "(ix , iy) = (-1 , -1)\n",
    "\n",
    "#mouse callback function\n",
    "def draw_shape(event , x , y, flags , param):\n",
    "    global ix , iy ,drawing , mode\n",
    "    \n",
    "    if event == cv2.EVENT_LBUTTONDOWN:\n",
    "        drawing = True\n",
    "        (ix , iy) = x , y\n",
    "        \n",
    "    elif event == cv2.EVENT_MOUSEMOVE:\n",
    "        if drawing == True:\n",
    "            if mode == True:\n",
    "                cv2.rectangle(img , (ix,iy) , (x,y) , (0,255,0) , -1)\n",
    "                \n",
    "    elif event == cv2.EVENT_LBUTTONUP:\n",
    "        drawing = False\n",
    "        if mode == True:\n",
    "            cv2.rectangle(img , (ix,iy) , (x,y) , (0,255,0) , -1)\n",
    "        else:\n",
    "            cv2.circle(img , (x,y) , 5 , (0,0,255) , -1)\n",
    "    \n",
    "    \n",
    "cv2.setMouseCallback(windowname , draw_shape)\n",
    "\n",
    "def main():\n",
    "    global mode\n",
    "    \n",
    "    while(True):\n",
    "        cv2.imshow(windowname , img)\n",
    "        k = cv2.waitKey(1)\n",
    "        if k == ord('m') or k == ord('M'):\n",
    "            mode = not mode\n",
    "        elif k == 27:\n",
    "            break\n",
    "    cv2.destroyAllWindows()\n",
    "    \n",
    "if __name__ == \"__main__\":\n",
    "    main()"
   ]
  },
  {
   "cell_type": "code",
   "execution_count": null,
   "metadata": {},
   "outputs": [],
   "source": []
  }
 ],
 "metadata": {
  "kernelspec": {
   "display_name": "Python 3",
   "language": "python",
   "name": "python3"
  },
  "language_info": {
   "codemirror_mode": {
    "name": "ipython",
    "version": 3
   },
   "file_extension": ".py",
   "mimetype": "text/x-python",
   "name": "python",
   "nbconvert_exporter": "python",
   "pygments_lexer": "ipython3",
   "version": "3.6.5"
  }
 },
 "nbformat": 4,
 "nbformat_minor": 2
}
